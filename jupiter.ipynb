{
 "cells": [
  {
   "cell_type": "markdown",
   "metadata": {},
   "source": [
    "### instalar dependencias"
   ]
  },
  {
   "cell_type": "code",
   "execution_count": 1,
   "metadata": {},
   "outputs": [],
   "source": [
    "#! pip install pandas\n",
    "#! pip install requests"
   ]
  },
  {
   "cell_type": "markdown",
   "metadata": {},
   "source": [
    "### Obtener data"
   ]
  },
  {
   "cell_type": "code",
   "execution_count": 2,
   "metadata": {},
   "outputs": [],
   "source": [
    "import requests \n",
    "\n",
    "\n",
    "response = requests.get(\"https://www.getonbrd.com/api/v0/search/jobs\", params={\n",
    "    \"query\": \"Javadeveloper\",\n",
    "    \"per_page\": 2,\n",
    "    \"page\": 1,\n",
    "})\n",
    "\n",
    "jobs = response.json()[\"data\"];\n"
   ]
  },
  {
   "cell_type": "code",
   "execution_count": 3,
   "metadata": {},
   "outputs": [],
   "source": [
    "# import json\n",
    "\n",
    "# def guardar_en_json(array_de_objetos, nombre_archivo):\n",
    "#     # Crear el archivo JSON y guardar los datos\n",
    "#     with open(nombre_archivo, 'w', encoding='utf-8') as archivo_json:\n",
    "#         json.dump(array_de_objetos, archivo_json, ensure_ascii=False, indent=4)\n",
    "\n",
    "# # Ejemplo de uso:\n",
    "\n",
    "# guardar_en_json(raw_data[\"data\"], 'datos.json')\n",
    "\n",
    "\n",
    "\n"
   ]
  },
  {
   "cell_type": "markdown",
   "metadata": {},
   "source": [
    "### Construir data frame"
   ]
  },
  {
   "cell_type": "code",
   "execution_count": 4,
   "metadata": {},
   "outputs": [
    {
     "name": "stdout",
     "output_type": "stream",
     "text": [
      "                                                 id  \\\n",
      "0          java-developer-con-sre-leniolabs_-remote   \n",
      "1  java-angular-fullstack-developer-ensitech-remote   \n",
      "\n",
      "                               title             description_headline  \\\n",
      "0             Java Developer con SRE                 Skill requerido    \n",
      "1  Java Angular Full-Stack Developer  Qualifications and requirements   \n",
      "\n",
      "                                         description  \\\n",
      "0  <ul><li><strong>+4 años de experiencia en prog...   \n",
      "1  <ul><li>At least 8 years of experience in IT o...   \n",
      "\n",
      "                                            projects functions_headline  \\\n",
      "0  <p>Leniolabs es una empresa de desarrollo de s...      Job functions   \n",
      "1  <blockquote><h3><h3>Join #Ensiteam!</h3></h3>W...      Job functions   \n",
      "\n",
      "                                           functions benefits_headline  \\\n",
      "0  <p>Actualmente estamos en la búsqueda de un/un...       Beneficios    \n",
      "1  <ul><li>Develop and maintain high-quality soft...        Conditions   \n",
      "\n",
      "                                            benefits desirable_headline  ...  \\\n",
      "0  <ul><li>Metlife (Chile) - Para toda la familia...   Desirable Skills  ...   \n",
      "1  <ul><li>🌐100% remote opportunity.</li><li>💸Com...   Desirable skills  ...   \n",
      "\n",
      "  lang  category_name                                              perks  \\\n",
      "0   en    Programming                [internal_talks, computer_provided]   \n",
      "1   es    Programming  [pet_friendly, flexible_hours, computer_provid...   \n",
      "\n",
      "  min_salary max_salary published_at response_time_min response_time_max  \\\n",
      "0       None       None   1715780514              None              None   \n",
      "1       None       None   1715204833              None              None   \n",
      "\n",
      "  applications_count                                         public_url  \n",
      "0                 35  https://www.getonbrd.com/jobs/java-developer-c...  \n",
      "1                 20  https://www.getonbrd.com/jobs/java-angular-ful...  \n",
      "\n",
      "[2 rows x 25 columns]\n"
     ]
    }
   ],
   "source": [
    "import pandas as pd\n",
    "\n",
    "def transform_jobs_to_dataframe(jobs):\n",
    "    # Estructurar los datos en una lista de diccionarios\n",
    "    structured_data = []\n",
    "    for job in jobs:\n",
    "        job_data = {\n",
    "            \"id\": job[\"id\"],\n",
    "            \"title\": job[\"attributes\"][\"title\"],\n",
    "            \"description_headline\": job[\"attributes\"].get(\"description_headline\", \"\"),\n",
    "            \"description\": job[\"attributes\"].get(\"description\", \"\"),\n",
    "            \"projects\": job[\"attributes\"].get(\"projects\", \"\"),\n",
    "            \"functions_headline\": job[\"attributes\"].get(\"functions_headline\", \"\"),\n",
    "            \"functions\": job[\"attributes\"].get(\"functions\", \"\"),\n",
    "            \"benefits_headline\": job[\"attributes\"].get(\"benefits_headline\", \"\"),\n",
    "            \"benefits\": job[\"attributes\"].get(\"benefits\", \"\"),\n",
    "            \"desirable_headline\": job[\"attributes\"].get(\"desirable_headline\", \"\"),\n",
    "            \"desirable\": job[\"attributes\"].get(\"desirable\", \"\"),\n",
    "            \"remote\": job[\"attributes\"][\"remote\"],\n",
    "            \"remote_modality\": job[\"attributes\"].get(\"remote_modality\", \"\"),\n",
    "            \"remote_zone\": job[\"attributes\"].get(\"remote_zone\", \"\"),\n",
    "            \"countries\": job[\"attributes\"][\"countries\"],\n",
    "            \"lang\": job[\"attributes\"][\"lang\"],\n",
    "            \"category_name\": job[\"attributes\"][\"category_name\"],\n",
    "            \"perks\": job[\"attributes\"][\"perks\"],\n",
    "            \"min_salary\": job[\"attributes\"].get(\"min_salary\"),\n",
    "            \"max_salary\": job[\"attributes\"].get(\"max_salary\"),\n",
    "            \"published_at\": job[\"attributes\"][\"published_at\"],\n",
    "            \"response_time_min\": job[\"attributes\"][\"response_time_in_days\"].get(\"min\"),\n",
    "            \"response_time_max\": job[\"attributes\"][\"response_time_in_days\"].get(\"max\"),\n",
    "            \"applications_count\": job[\"attributes\"][\"applications_count\"],\n",
    "            \"public_url\": job[\"links\"][\"public_url\"]\n",
    "        }\n",
    "        structured_data.append(job_data)\n",
    "    \n",
    "    return pd.DataFrame(structured_data)\n",
    "\n",
    "df_jobs = transform_jobs_to_dataframe(jobs)\n",
    "print(df_jobs.head())"
   ]
  }
 ],
 "metadata": {
  "kernelspec": {
   "display_name": "mi_proyecto",
   "language": "python",
   "name": "python3"
  },
  "language_info": {
   "codemirror_mode": {
    "name": "ipython",
    "version": 3
   },
   "file_extension": ".py",
   "mimetype": "text/x-python",
   "name": "python",
   "nbconvert_exporter": "python",
   "pygments_lexer": "ipython3",
   "version": "3.12.2"
  }
 },
 "nbformat": 4,
 "nbformat_minor": 2
}
