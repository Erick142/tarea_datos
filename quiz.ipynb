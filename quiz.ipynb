{
 "cells": [
  {
   "cell_type": "code",
   "execution_count": null,
   "metadata": {},
   "outputs": [],
   "source": [
    "! pip install pandas\n",
    "! pip install requests\n",
    "! pip install beautifulsoup4\n",
    "! pip install matplotlib\n",
    "! pip install mlxtend"
   ]
  },
  {
   "cell_type": "code",
   "execution_count": null,
   "metadata": {},
   "outputs": [],
   "source": [
    "import requests\n",
    "import json\n",
    "import json\n",
    "\n",
    "try:\n",
    "    with open(\"jobs.json\", 'r', encoding='utf-8') as file:\n",
    "        jobs = json.load(file)\n",
    "\n",
    "except FileNotFoundError:\n",
    "    response = requests.get(\"https://www.getonbrd.com/api/v0/search/jobs\", params={\n",
    "        \"query\": \"Software engineering\",\n",
    "        \"per_page\": 100,\n",
    "        \"page\": 1,\n",
    "    })\n",
    "\n",
    "    jobs = response.json()[\"data\"]\n",
    "\n",
    "    with open(\"jobs.json\", 'w', encoding='utf-8') as file:\n",
    "        json.dump(jobs, file, ensure_ascii=False, indent=4)\n",
    "\n",
    "\n",
    "def guardar_en_json(array_de_objetos, nombre_archivo):\n",
    "    \n",
    "    with open(nombre_archivo, 'w', encoding='utf-8') as archivo_json:\n",
    "        json.dump(array_de_objetos, archivo_json, ensure_ascii=False, indent=4)\n",
    "\n",
    "\n",
    "guardar_en_json(jobs, 'jobs.json')"
   ]
  },
  {
   "cell_type": "code",
   "execution_count": null,
   "metadata": {},
   "outputs": [],
   "source": [
    "import pandas as pd\n",
    "from bs4 import BeautifulSoup\n",
    "\n",
    "def transform_jobs_to_dataframe(jobs):\n",
    "    \n",
    "    structured_data = []\n",
    "    for job in jobs:\n",
    "        job_data = {\n",
    "            \"id\": job[\"id\"],\n",
    "            \"title\": job[\"attributes\"][\"title\"],\n",
    "            \"description\": BeautifulSoup(job[\"attributes\"].get(\"description\", \"\"), 'html.parser').get_text(),\n",
    "            \"projects\": BeautifulSoup(job[\"attributes\"].get(\"projects\", \"\"), 'html.parser').get_text(),\n",
    "            \"functions\": BeautifulSoup(job[\"attributes\"].get(\"functions\", \"\"), 'html.parser').get_text(),\n",
    "            \"benefits\": BeautifulSoup(job[\"attributes\"].get(\"benefits\", \"\"), 'html.parser').get_text(),\n",
    "            \"desirable\": BeautifulSoup(job[\"attributes\"].get(\"desirable\", \"\"), 'html.parser').get_text(),\n",
    "            \"seniority\": job[\"attributes\"].get(\"seniority\", \"\"),\n",
    "            \"remote\": job[\"attributes\"][\"remote\"],\n",
    "            \"remote_modality\": job[\"attributes\"].get(\"remote_modality\", \"\"),\n",
    "            \"remote_zone\": job[\"attributes\"].get(\"remote_zone\", \"\"),\n",
    "            \"countries\": job[\"attributes\"][\"countries\"],\n",
    "            \"lang\": job[\"attributes\"][\"lang\"],\n",
    "            \"category_name\": job[\"attributes\"][\"category_name\"],\n",
    "            \"perks\": job[\"attributes\"][\"perks\"],\n",
    "            \"min_salary\": job[\"attributes\"].get(\"min_salary\"),\n",
    "            \"max_salary\": job[\"attributes\"].get(\"max_salary\"),\n",
    "            \"published_at\": job[\"attributes\"][\"published_at\"],\n",
    "            \"response_time_min\": job[\"attributes\"][\"response_time_in_days\"].get(\"min\"),\n",
    "            \"response_time_max\": job[\"attributes\"][\"response_time_in_days\"].get(\"max\"),\n",
    "            \"applications_count\": job[\"attributes\"][\"applications_count\"],\n",
    "            \"public_url\": job[\"links\"][\"public_url\"]\n",
    "        }\n",
    "        structured_data.append(job_data)\n",
    "    \n",
    "    return pd.DataFrame(structured_data)\n",
    "\n",
    "df_jobs = transform_jobs_to_dataframe(jobs)\n",
    "\n",
    "def get_seniority_type(seniority):\n",
    "    return seniority['data']['type']\n",
    "\n",
    "df_jobs['seniority_type'] = df_jobs['seniority'].apply(get_seniority_type)\n",
    "\n",
    "seniority_index = df_jobs.columns.get_loc('seniority')\n",
    "\n",
    "df_jobs.insert(seniority_index + 1, 'seniority_type', df_jobs.pop('seniority_type'))\n",
    "\n",
    "df_jobs\n"
   ]
  },
  {
   "cell_type": "code",
   "execution_count": null,
   "metadata": {},
   "outputs": [],
   "source": [
    "## Los trabajos de backend tienen salarios mas altos."
   ]
  }
 ],
 "metadata": {
  "language_info": {
   "name": "python"
  }
 },
 "nbformat": 4,
 "nbformat_minor": 2
}
