{
 "cells": [
  {
   "cell_type": "markdown",
   "metadata": {},
   "source": [
    "### instalar dependencias"
   ]
  },
  {
   "cell_type": "code",
   "execution_count": 103,
   "metadata": {},
   "outputs": [],
   "source": [
    "# ! pip install pandas\n",
    "#! pip install requests"
   ]
  },
  {
   "cell_type": "markdown",
   "metadata": {},
   "source": [
    "### Obtener data"
   ]
  },
  {
   "cell_type": "code",
   "execution_count": 104,
   "metadata": {},
   "outputs": [
    {
     "name": "stdout",
     "output_type": "stream",
     "text": [
      "{'data': [{'id': 'java-angular-fullstack-developer-ensitech-remote', 'type': 'job', 'attributes': {'title': 'Java Angular Full-Stack Developer', 'description_headline': 'Qualifications and requirements', 'description': '<ul><li>At least 8 years of experience in IT overall.</li><li>Strong proficiency in Java development, with 4+ years of hands-on experience.</li><li>2+ years of experience with TypeScript front-end frameworks, preferably Angular 8+.</li><li>Experience with Oracle and/or Postgres databases, including database design, query optimization, and interaction from an application developer perspective.</li><li>Familiarity with cloud deployment and CI/CD tools such as Jenkins.</li><li>Solid understanding of software development best practices, including TDD, design patterns, and clean code principles.</li><li>Excellent communication skills, both written and verbal.</li><li>Experience with agile methodologies such as Scrum or XP.</li><li>Ability to work independently and as part of a team in a fast-paced environment.</li></ul>', 'projects': '<blockquote><h3><h3>Join #Ensiteam!</h3></h3>We are a company focused on custom software development and we have been in the market for more than 19 years. At Ensitech we are dedicated to finding highly specialized talent to work with large companies in the United States, Europe and Canada.<p>Each one of our collaborators works with different teams and colleagues around the world, in the design and commercialization of software.</p><p>We are looking for a Senior Java Full Stack Developer with strong Angular skills and experience working with Oracle and/or Postgres databases. The ideal candidate will have a solid background in both front-end and back-end development, along with proficiency in database interaction.</p></blockquote>', 'functions_headline': 'Job functions', 'functions': '<ul><li>Develop and maintain high-quality software solutions using Java and Angular.</li><li>Design and implement RESTful APIs and web services using Java 11+ and Spring Boot (Preferent Java 17).</li><li>Collaborate with cross-functional teams to understand business requirements and translate them into technical solutions.</li><li>Ensure code quality through testing, code reviews, and adherence to best practices.</li><li>Work closely with database administrators to integrate and interact with Oracle and Postgres databases from the application layer.</li><li>Deploy applications to cloud platforms such as Kubernetes, PCF, GCP, Azure, or AWS.</li><li>Participate in agile ceremonies, including sprint planning, daily stand-ups, and retrospectives.</li><li>Mentor junior developers and provide technical guidance as needed.</li></ul>', 'benefits_headline': 'Conditions', 'benefits': '<ul><li>🌐100% remote opportunity.</li><li>💸Competitive salary and benefits.</li><li>🎁Custom benefit package aligned to your experience and your needs.</li><li>🚀Working with foreign clients.</li></ul>', 'desirable_headline': 'Desirable skills', 'desirable': '<ul><li>knowledge of ServiceNow, Terraform, Ansible, Kafka.</li><li>Previous experience in a leadership role or leading feature tracks.</li><li>Familiarity with software release management tools like Pivotal Tracker, JIRA, or Rally.</li></ul>', 'remote': True, 'remote_modality': 'remote_local', 'remote_zone': None, 'countries': ['Remote'], 'lang': 'es', 'category_name': 'Programming', 'perks': ['pet_friendly', 'flexible_hours', 'computer_provided', 'informal_dresscode', 'beverages_and_snacks'], 'min_salary': None, 'max_salary': None, 'published_at': 1715204833, 'response_time_in_days': {'min': None, 'max': None}, 'applications_count': 16, 'location_regions': {'data': []}, 'location_tenants': {'data': [{'id': 7, 'type': 'location_tenant'}]}, 'location_cities': {'data': []}, 'modality': {'data': {'id': 1, 'type': 'modality'}}, 'seniority': {'data': {'id': 4, 'type': 'seniority'}}, 'tags': {'data': [{'id': 1, 'type': 'tag'}, {'id': 2, 'type': 'tag'}, {'id': 34, 'type': 'tag'}, {'id': 49, 'type': 'tag'}, {'id': 51, 'type': 'tag'}, {'id': 74, 'type': 'tag'}, {'id': 104, 'type': 'tag'}, {'id': 107, 'type': 'tag'}, {'id': 138, 'type': 'tag'}, {'id': 204, 'type': 'tag'}, {'id': 225, 'type': 'tag'}, {'id': 253, 'type': 'tag'}, {'id': 259, 'type': 'tag'}, {'id': 299, 'type': 'tag'}, {'id': 422, 'type': 'tag'}, {'id': 583, 'type': 'tag'}, {'id': 588, 'type': 'tag'}]}, 'company': {'data': {'id': 9616, 'type': 'company'}}}, 'links': {'public_url': 'https://www.getonbrd.com/jobs/java-angular-fullstack-developer-ensitech-remote'}}, {'id': 'java-developer-con-sre-leniolabs_-remote', 'type': 'job', 'attributes': {'title': 'Java Developer con SRE', 'description_headline': 'Skill requerido ', 'description': '<ul><li>+4 años desarrollando con<strong> Java</strong> acreditando experiencia de desarrollo en los últimos años con Java 8 y versiones posteriores.</li><li>Conocimiento en prácticas y principios de SRE.</li><li>Experiencia con plataformas de nube en especifico con AWS</li><li>Pensamiento crítico y capacidad de resolver problemas.</li><li>Experiencia en el desarrollo de Microservicios.</li><li>Contar con un nivel de Inglés oral y escrito B2/C1 (intermedio /avanzado)<strong> Indispensable</strong></li><li>Manejo de metodologías ágiles</li><li>Capacidad de trabajar en equipo</li><li>Trabajar de forma independiente, priorizando tareas para cumplir con las fechas límite, prestando fuerte atención al detalle.</li></ul>', 'projects': '<p>Leniolabs es una empresa de desarrollo de software con sedes en Argentina, Chile, España y USA. Colaboramos en el desarrollo de software de nuestros clientes que se encuentran principalmente en San Francisco, sumándose con nuestros equipos y estructura y trabajando directamente con ellos.</p><p>Nuestra experiencia se basa fuertemente en el desarrollo frontend con lenguajes como Javascript, React y Angular. También trabajamos algunos proyectos en backend con lenguajes como Ruby on Rails, Python (classifiers y big data structures) y NodeJS.</p><p>Valoramos a las/los desarrolladoras/es dinámicas/os en el aprendizaje de nuevas tecnologías para utilizarlas en los proyectos.</p><p>Trabajamos con equipos distribuidos, de manera remota y colaborativa, utilizando herramientas como Slack, Zoom, HO, Jira, etc.&nbsp;</p>', 'functions_headline': 'Job functions', 'functions': '<p>Actualmente estamos en la búsqueda de un/una Java Developer que se quiera unir nuestro equipo de Leniolabs para trabajar de la mano con uno de nuestros clientes mas importantes que se encuentra ubicado en USA. Buscamos personas con muchas ganas de aprender, de sumar, y que tenga buen manejo del trabajo en equipo.</p><ul><li>Se trabajará en el departamento de desarrollo de tecnología de Leniolabs, pero el proyecto es de uno de nuestros clientes en USA.</li><li>Trabajo en equipo - liderazgo.</li><li>Será responsable de avanzar en los diferentes requerimientos del cliente, junto con el equipo.</li><li>Su trabajo consiste en hacer que las tareas se realicen utilizando todos los recursos disponibles (tangibles e intangibles).</li><li>Contamos internamente con personas capacitadas para realizar QA, Líder de proyecto, etc, por lo cual tendrá la responsabilidad de adaptarse a cada equipo</li></ul>', 'benefits_headline': 'Beneficios ', 'benefits': '<ul><li>Metlife (Chile) - Para toda la familia</li><li>Salario dolarizado (Argentina)</li><li>100% Remoto. Aunque contamos con lugares de trabajo en Argentina y Chile</li><li>Posibilidad de recibir 2 bonos al año</li><li>2 revisiones salariales al año</li><li>Clases de inglés</li><li>Equipamiento Apple</li><li>Cursos UDEMY</li><li>Budget para compra de libros</li><li>Budget para compra de materiales de trabajo</li></ul>', 'desirable_headline': '', 'desirable': '', 'remote': True, 'remote_modality': 'remote_local', 'remote_zone': None, 'countries': ['Remote'], 'lang': 'lang_not_specified', 'category_name': 'Programming', 'perks': ['internal_talks', 'computer_provided'], 'min_salary': None, 'max_salary': None, 'published_at': 1715780514, 'response_time_in_days': {'min': None, 'max': None}, 'applications_count': 19, 'location_regions': {'data': []}, 'location_tenants': {'data': [{'id': 2, 'type': 'location_tenant'}, {'id': 6, 'type': 'location_tenant'}, {'id': 1, 'type': 'location_tenant'}, {'id': 3, 'type': 'location_tenant'}, {'id': 20, 'type': 'location_tenant'}]}, 'location_cities': {'data': []}, 'modality': {'data': {'id': 1, 'type': 'modality'}}, 'seniority': {'data': {'id': 4, 'type': 'seniority'}}, 'tags': {'data': [{'id': 2, 'type': 'tag'}, {'id': 34, 'type': 'tag'}, {'id': 119, 'type': 'tag'}, {'id': 131, 'type': 'tag'}, {'id': 156, 'type': 'tag'}, {'id': 235, 'type': 'tag'}, {'id': 267, 'type': 'tag'}, {'id': 278, 'type': 'tag'}, {'id': 299, 'type': 'tag'}, {'id': 583, 'type': 'tag'}]}, 'company': {'data': {'id': 4161, 'type': 'company'}}}, 'links': {'public_url': 'https://www.getonbrd.com/jobs/java-developer-con-sre-leniolabs_-remote'}}], 'meta': {'page': 1, 'per_page': 2, 'total_pages': 3}}\n"
     ]
    }
   ],
   "source": [
    "import requests \n",
    "\n",
    "\n",
    "\n",
    "\n",
    "\n",
    "url = \"https://www.getonbrd.com/api/v0/search/jobs\"\n",
    "params = {\n",
    "    \"query\": \"Javadeveloper\",\n",
    "    \"per_page\": 2,\n",
    "    \"page\": 1\n",
    "}\n",
    "\n",
    "response = requests.get(url, params=params)\n",
    "\n",
    "raw_data = response.json()\n",
    "print(raw_data)\n",
    "\n"
   ]
  },
  {
   "cell_type": "markdown",
   "metadata": {},
   "source": [
    "### Construir data frame"
   ]
  },
  {
   "cell_type": "code",
   "execution_count": 105,
   "metadata": {},
   "outputs": [],
   "source": [
    "import pandas as pd\n",
    "\n",
    "data = pd.read_csv(\"World-happiness-report-2024.csv\")\n",
    "\n",
    "\n",
    "df = pd.DataFrame(data)"
   ]
  },
  {
   "cell_type": "markdown",
   "metadata": {},
   "source": [
    "### Clases"
   ]
  },
  {
   "cell_type": "code",
   "execution_count": 106,
   "metadata": {},
   "outputs": [],
   "source": [
    "class Job:\n",
    "    def __init__(self, id, remote, country, title, description, functions, published_at, min_salary, max_salary, modality, seniority, category_name, tags, perks, company):\n",
    "        self.id = id\n",
    "        self.remote = remote\n",
    "        self.country = country\n",
    "        self.title = title\n",
    "        self.description = description\n",
    "        self.functions = functions\n",
    "        self.published_at = published_at \n",
    "        self.min_salary = min_salary\n",
    "        self.max_salary = max_salary\n",
    "        self.modality = modality\n",
    "        self.seniority = seniority\n",
    "        self.category_name = category_name\n",
    "        self.tags = tags\n",
    "        self.perks = perks\n",
    "        self.company = company\n",
    "\n",
    "\n",
    "class Company:\n",
    "    def __init__(self, id, description, long_description, projects, benefits, country):\n",
    "        self.id = id\n",
    "        self.description = description\n",
    "        self.country = country\n",
    "        self.long_description = long_description \n",
    "        self.description = description\n",
    "        self.projects= projects\n",
    "        self.benefits = benefits\n",
    "        self.country = country\n",
    "\n",
    "\n",
    "\n"
   ]
  },
  {
   "cell_type": "markdown",
   "metadata": {},
   "source": [
    "### Parser"
   ]
  },
  {
   "cell_type": "code",
   "execution_count": 107,
   "metadata": {},
   "outputs": [],
   "source": [
    "def parseCompany(raw):\n",
    "    id= raw.id\n",
    "    description = raw.description\n",
    "    long_description = raw.long_description\n",
    "    projects = raw.projects\n",
    "    benefits = raw.benefits\n",
    "    country = raw.country\n",
    "\n",
    "    company = Company(id, description, long_description, projects, benefits, country)\n",
    "    \n",
    "    return company\n",
    "\n",
    "def parseJob(raw):\n",
    "    id = raw[\"id\"]\n",
    "    country = raw[\"country\"]\n",
    "    title = raw[\"title\"]\n",
    "    description = raw[\"description\"]\n",
    "    functions = raw[\"functions\"]\n",
    "    published_at = raw[\"published_at\"]\n",
    "    min_salary = raw[\"min_salary\"]\n",
    "    max_salary = raw[\"max_salary\"]\n",
    "    modality = raw[\"modality\"]\n",
    "    seniority = raw[\"seniority\"]\n",
    "    category_name = raw[\"category_namem\"]\n",
    "    tags = raw[\"tags\"]\n",
    "    perks = raw[\"perks\"]\n",
    "    company = raw[\"company\"]\n",
    "\n",
    "    job = Job(id, country, title, description, functions, published_at, min_salary, max_salary, modality, seniority, category_name, tags, perks, company)\n",
    "    \n",
    "    return job\n"
   ]
  },
  {
   "cell_type": "markdown",
   "metadata": {},
   "source": [
    "### Transformar"
   ]
  },
  {
   "cell_type": "code",
   "execution_count": 108,
   "metadata": {},
   "outputs": [
    {
     "name": "stdout",
     "output_type": "stream",
     "text": [
      "{'data': [{'id': 'java-angular-fullstack-developer-ensitech-remote', 'type': 'job', 'attributes': {'title': 'Java Angular Full-Stack Developer', 'description_headline': 'Qualifications and requirements', 'description': '<ul><li>At least 8 years of experience in IT overall.</li><li>Strong proficiency in Java development, with 4+ years of hands-on experience.</li><li>2+ years of experience with TypeScript front-end frameworks, preferably Angular 8+.</li><li>Experience with Oracle and/or Postgres databases, including database design, query optimization, and interaction from an application developer perspective.</li><li>Familiarity with cloud deployment and CI/CD tools such as Jenkins.</li><li>Solid understanding of software development best practices, including TDD, design patterns, and clean code principles.</li><li>Excellent communication skills, both written and verbal.</li><li>Experience with agile methodologies such as Scrum or XP.</li><li>Ability to work independently and as part of a team in a fast-paced environment.</li></ul>', 'projects': '<blockquote><h3><h3>Join #Ensiteam!</h3></h3>We are a company focused on custom software development and we have been in the market for more than 19 years. At Ensitech we are dedicated to finding highly specialized talent to work with large companies in the United States, Europe and Canada.<p>Each one of our collaborators works with different teams and colleagues around the world, in the design and commercialization of software.</p><p>We are looking for a Senior Java Full Stack Developer with strong Angular skills and experience working with Oracle and/or Postgres databases. The ideal candidate will have a solid background in both front-end and back-end development, along with proficiency in database interaction.</p></blockquote>', 'functions_headline': 'Job functions', 'functions': '<ul><li>Develop and maintain high-quality software solutions using Java and Angular.</li><li>Design and implement RESTful APIs and web services using Java 11+ and Spring Boot (Preferent Java 17).</li><li>Collaborate with cross-functional teams to understand business requirements and translate them into technical solutions.</li><li>Ensure code quality through testing, code reviews, and adherence to best practices.</li><li>Work closely with database administrators to integrate and interact with Oracle and Postgres databases from the application layer.</li><li>Deploy applications to cloud platforms such as Kubernetes, PCF, GCP, Azure, or AWS.</li><li>Participate in agile ceremonies, including sprint planning, daily stand-ups, and retrospectives.</li><li>Mentor junior developers and provide technical guidance as needed.</li></ul>', 'benefits_headline': 'Conditions', 'benefits': '<ul><li>🌐100% remote opportunity.</li><li>💸Competitive salary and benefits.</li><li>🎁Custom benefit package aligned to your experience and your needs.</li><li>🚀Working with foreign clients.</li></ul>', 'desirable_headline': 'Desirable skills', 'desirable': '<ul><li>knowledge of ServiceNow, Terraform, Ansible, Kafka.</li><li>Previous experience in a leadership role or leading feature tracks.</li><li>Familiarity with software release management tools like Pivotal Tracker, JIRA, or Rally.</li></ul>', 'remote': True, 'remote_modality': 'remote_local', 'remote_zone': None, 'countries': ['Remote'], 'lang': 'es', 'category_name': 'Programming', 'perks': ['pet_friendly', 'flexible_hours', 'computer_provided', 'informal_dresscode', 'beverages_and_snacks'], 'min_salary': None, 'max_salary': None, 'published_at': 1715204833, 'response_time_in_days': {'min': None, 'max': None}, 'applications_count': 16, 'location_regions': {'data': []}, 'location_tenants': {'data': [{'id': 7, 'type': 'location_tenant'}]}, 'location_cities': {'data': []}, 'modality': {'data': {'id': 1, 'type': 'modality'}}, 'seniority': {'data': {'id': 4, 'type': 'seniority'}}, 'tags': {'data': [{'id': 1, 'type': 'tag'}, {'id': 2, 'type': 'tag'}, {'id': 34, 'type': 'tag'}, {'id': 49, 'type': 'tag'}, {'id': 51, 'type': 'tag'}, {'id': 74, 'type': 'tag'}, {'id': 104, 'type': 'tag'}, {'id': 107, 'type': 'tag'}, {'id': 138, 'type': 'tag'}, {'id': 204, 'type': 'tag'}, {'id': 225, 'type': 'tag'}, {'id': 253, 'type': 'tag'}, {'id': 259, 'type': 'tag'}, {'id': 299, 'type': 'tag'}, {'id': 422, 'type': 'tag'}, {'id': 583, 'type': 'tag'}, {'id': 588, 'type': 'tag'}]}, 'company': {'data': {'id': 9616, 'type': 'company'}}}, 'links': {'public_url': 'https://www.getonbrd.com/jobs/java-angular-fullstack-developer-ensitech-remote'}}, {'id': 'java-developer-con-sre-leniolabs_-remote', 'type': 'job', 'attributes': {'title': 'Java Developer con SRE', 'description_headline': 'Skill requerido ', 'description': '<ul><li>+4 años desarrollando con<strong> Java</strong> acreditando experiencia de desarrollo en los últimos años con Java 8 y versiones posteriores.</li><li>Conocimiento en prácticas y principios de SRE.</li><li>Experiencia con plataformas de nube en especifico con AWS</li><li>Pensamiento crítico y capacidad de resolver problemas.</li><li>Experiencia en el desarrollo de Microservicios.</li><li>Contar con un nivel de Inglés oral y escrito B2/C1 (intermedio /avanzado)<strong> Indispensable</strong></li><li>Manejo de metodologías ágiles</li><li>Capacidad de trabajar en equipo</li><li>Trabajar de forma independiente, priorizando tareas para cumplir con las fechas límite, prestando fuerte atención al detalle.</li></ul>', 'projects': '<p>Leniolabs es una empresa de desarrollo de software con sedes en Argentina, Chile, España y USA. Colaboramos en el desarrollo de software de nuestros clientes que se encuentran principalmente en San Francisco, sumándose con nuestros equipos y estructura y trabajando directamente con ellos.</p><p>Nuestra experiencia se basa fuertemente en el desarrollo frontend con lenguajes como Javascript, React y Angular. También trabajamos algunos proyectos en backend con lenguajes como Ruby on Rails, Python (classifiers y big data structures) y NodeJS.</p><p>Valoramos a las/los desarrolladoras/es dinámicas/os en el aprendizaje de nuevas tecnologías para utilizarlas en los proyectos.</p><p>Trabajamos con equipos distribuidos, de manera remota y colaborativa, utilizando herramientas como Slack, Zoom, HO, Jira, etc.&nbsp;</p>', 'functions_headline': 'Job functions', 'functions': '<p>Actualmente estamos en la búsqueda de un/una Java Developer que se quiera unir nuestro equipo de Leniolabs para trabajar de la mano con uno de nuestros clientes mas importantes que se encuentra ubicado en USA. Buscamos personas con muchas ganas de aprender, de sumar, y que tenga buen manejo del trabajo en equipo.</p><ul><li>Se trabajará en el departamento de desarrollo de tecnología de Leniolabs, pero el proyecto es de uno de nuestros clientes en USA.</li><li>Trabajo en equipo - liderazgo.</li><li>Será responsable de avanzar en los diferentes requerimientos del cliente, junto con el equipo.</li><li>Su trabajo consiste en hacer que las tareas se realicen utilizando todos los recursos disponibles (tangibles e intangibles).</li><li>Contamos internamente con personas capacitadas para realizar QA, Líder de proyecto, etc, por lo cual tendrá la responsabilidad de adaptarse a cada equipo</li></ul>', 'benefits_headline': 'Beneficios ', 'benefits': '<ul><li>Metlife (Chile) - Para toda la familia</li><li>Salario dolarizado (Argentina)</li><li>100% Remoto. Aunque contamos con lugares de trabajo en Argentina y Chile</li><li>Posibilidad de recibir 2 bonos al año</li><li>2 revisiones salariales al año</li><li>Clases de inglés</li><li>Equipamiento Apple</li><li>Cursos UDEMY</li><li>Budget para compra de libros</li><li>Budget para compra de materiales de trabajo</li></ul>', 'desirable_headline': '', 'desirable': '', 'remote': True, 'remote_modality': 'remote_local', 'remote_zone': None, 'countries': ['Remote'], 'lang': 'lang_not_specified', 'category_name': 'Programming', 'perks': ['internal_talks', 'computer_provided'], 'min_salary': None, 'max_salary': None, 'published_at': 1715780514, 'response_time_in_days': {'min': None, 'max': None}, 'applications_count': 19, 'location_regions': {'data': []}, 'location_tenants': {'data': [{'id': 2, 'type': 'location_tenant'}, {'id': 6, 'type': 'location_tenant'}, {'id': 1, 'type': 'location_tenant'}, {'id': 3, 'type': 'location_tenant'}, {'id': 20, 'type': 'location_tenant'}]}, 'location_cities': {'data': []}, 'modality': {'data': {'id': 1, 'type': 'modality'}}, 'seniority': {'data': {'id': 4, 'type': 'seniority'}}, 'tags': {'data': [{'id': 2, 'type': 'tag'}, {'id': 34, 'type': 'tag'}, {'id': 119, 'type': 'tag'}, {'id': 131, 'type': 'tag'}, {'id': 156, 'type': 'tag'}, {'id': 235, 'type': 'tag'}, {'id': 267, 'type': 'tag'}, {'id': 278, 'type': 'tag'}, {'id': 299, 'type': 'tag'}, {'id': 583, 'type': 'tag'}]}, 'company': {'data': {'id': 4161, 'type': 'company'}}}, 'links': {'public_url': 'https://www.getonbrd.com/jobs/java-developer-con-sre-leniolabs_-remote'}}], 'meta': {'page': 1, 'per_page': 2, 'total_pages': 3}}\n"
     ]
    },
    {
     "ename": "KeyError",
     "evalue": "'country'",
     "output_type": "error",
     "traceback": [
      "\u001b[1;31m---------------------------------------------------------------------------\u001b[0m",
      "\u001b[1;31mKeyError\u001b[0m                                  Traceback (most recent call last)",
      "Cell \u001b[1;32mIn[108], line 6\u001b[0m\n\u001b[0;32m      3\u001b[0m parsedJobList \u001b[38;5;241m=\u001b[39m []\n\u001b[0;32m      5\u001b[0m \u001b[38;5;28;01mfor\u001b[39;00m job \u001b[38;5;129;01min\u001b[39;00m jobList:\n\u001b[1;32m----> 6\u001b[0m     parsedJobList\u001b[38;5;241m.\u001b[39mappend(\u001b[43mparseJob\u001b[49m\u001b[43m(\u001b[49m\u001b[43mjob\u001b[49m\u001b[43m)\u001b[49m)\n\u001b[0;32m      8\u001b[0m \u001b[38;5;28mprint\u001b[39m(parsedJobList)\n",
      "Cell \u001b[1;32mIn[107], line 15\u001b[0m, in \u001b[0;36mparseJob\u001b[1;34m(raw)\u001b[0m\n\u001b[0;32m     13\u001b[0m \u001b[38;5;28;01mdef\u001b[39;00m \u001b[38;5;21mparseJob\u001b[39m(raw):\n\u001b[0;32m     14\u001b[0m     \u001b[38;5;28mid\u001b[39m \u001b[38;5;241m=\u001b[39m raw[\u001b[38;5;124m\"\u001b[39m\u001b[38;5;124mid\u001b[39m\u001b[38;5;124m\"\u001b[39m]\n\u001b[1;32m---> 15\u001b[0m     country \u001b[38;5;241m=\u001b[39m \u001b[43mraw\u001b[49m\u001b[43m[\u001b[49m\u001b[38;5;124;43m\"\u001b[39;49m\u001b[38;5;124;43mcountry\u001b[39;49m\u001b[38;5;124;43m\"\u001b[39;49m\u001b[43m]\u001b[49m\n\u001b[0;32m     16\u001b[0m     title \u001b[38;5;241m=\u001b[39m raw[\u001b[38;5;124m\"\u001b[39m\u001b[38;5;124mtitle\u001b[39m\u001b[38;5;124m\"\u001b[39m]\n\u001b[0;32m     17\u001b[0m     description \u001b[38;5;241m=\u001b[39m raw[\u001b[38;5;124m\"\u001b[39m\u001b[38;5;124mdescription\u001b[39m\u001b[38;5;124m\"\u001b[39m]\n",
      "\u001b[1;31mKeyError\u001b[0m: 'country'"
     ]
    }
   ],
   "source": [
    "print(raw_data)\n",
    "jobList = raw_data[\"data\"]\n",
    "parsedJobList = []\n",
    "\n",
    "for job in jobList:\n",
    "    parsedJobList.append(parseJob(job))\n",
    "\n",
    "print(parsedJobList)"
   ]
  }
 ],
 "metadata": {
  "kernelspec": {
   "display_name": "mi_proyecto",
   "language": "python",
   "name": "python3"
  },
  "language_info": {
   "codemirror_mode": {
    "name": "ipython",
    "version": 3
   },
   "file_extension": ".py",
   "mimetype": "text/x-python",
   "name": "python",
   "nbconvert_exporter": "python",
   "pygments_lexer": "ipython3",
   "version": "3.12.2"
  }
 },
 "nbformat": 4,
 "nbformat_minor": 2
}
